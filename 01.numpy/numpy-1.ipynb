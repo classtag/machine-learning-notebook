{
 "cells": [
  {
   "cell_type": "code",
   "execution_count": 1,
   "metadata": {},
   "outputs": [],
   "source": [
    "# import numpy library.\n",
    "import numpy as np"
   ]
  },
  {
   "cell_type": "code",
   "execution_count": 2,
   "metadata": {},
   "outputs": [
    {
     "name": "stdout",
     "output_type": "stream",
     "text": [
      "Year,WHO region,Country,Beverage Types,Display Value\n",
      "1986,Western Pacific,Viet Nam,Wine,0\n",
      "1986,Americas,Uruguay,Other,0.5\n",
      "1985,Africa,Cte d'Ivoire,Wine,1.62\n",
      "1986,Americas,Colombia,Beer,4.27\n"
     ]
    }
   ],
   "source": [
    "!head -n 5 world_alcohol.txt"
   ]
  },
  {
   "cell_type": "code",
   "execution_count": 3,
   "metadata": {},
   "outputs": [],
   "source": [
    "# read file from txt file\n",
    "world_alcohol = np.genfromtxt('world_alcohol.txt', delimiter=',', dtype=str)"
   ]
  },
  {
   "cell_type": "code",
   "execution_count": 4,
   "metadata": {},
   "outputs": [
    {
     "name": "stdout",
     "output_type": "stream",
     "text": [
      "<class 'numpy.ndarray'>\n"
     ]
    }
   ],
   "source": [
    "print(type(world_alcohol))"
   ]
  },
  {
   "cell_type": "code",
   "execution_count": 5,
   "metadata": {},
   "outputs": [
    {
     "name": "stdout",
     "output_type": "stream",
     "text": [
      "[['Year' 'WHO region' 'Country' 'Beverage Types' 'Display Value']\n",
      " ['1986' 'Western Pacific' 'Viet Nam' 'Wine' '0']\n",
      " ['1986' 'Americas' 'Uruguay' 'Other' '0.5']\n",
      " ...\n",
      " ['1987' 'Africa' 'Malawi' 'Other' '0.75']\n",
      " ['1989' 'Americas' 'Bahamas' 'Wine' '1.5']\n",
      " ['1985' 'Africa' 'Malawi' 'Spirits' '0.31']]\n"
     ]
    }
   ],
   "source": [
    "# view the ndarray you loaded\n",
    "print(world_alcohol)"
   ]
  },
  {
   "cell_type": "code",
   "execution_count": 6,
   "metadata": {
    "slideshow": {
     "slide_type": "-"
    }
   },
   "outputs": [
    {
     "name": "stdout",
     "output_type": "stream",
     "text": [
      "Help on function genfromtxt in module numpy.lib.npyio:\n",
      "\n",
      "genfromtxt(fname, dtype=<class 'float'>, comments='#', delimiter=None, skip_header=0, skip_footer=0, converters=None, missing_values=None, filling_values=None, usecols=None, names=None, excludelist=None, deletechars=None, replace_space='_', autostrip=False, case_sensitive=True, defaultfmt='f%i', unpack=None, usemask=False, loose=True, invalid_raise=True, max_rows=None, encoding='bytes')\n",
      "    Load data from a text file, with missing values handled as specified.\n",
      "    \n",
      "    Each line past the first `skip_header` lines is split at the `delimiter`\n",
      "    character, and characters following the `comments` character are discarded.\n",
      "    \n",
      "    Parameters\n",
      "    ----------\n",
      "    fname : file, str, pathlib.Path, list of str, generator\n",
      "        File, filename, list, or generator to read.  If the filename\n",
      "        extension is `.gz` or `.bz2`, the file is first decompressed. Note\n",
      "        that generators must return byte strings in Python 3k.  The strings\n",
      "        in a list or produced by a generator are treated as lines.\n",
      "    dtype : dtype, optional\n",
      "        Data type of the resulting array.\n",
      "        If None, the dtypes will be determined by the contents of each\n",
      "        column, individually.\n",
      "    comments : str, optional\n",
      "        The character used to indicate the start of a comment.\n",
      "        All the characters occurring on a line after a comment are discarded\n",
      "    delimiter : str, int, or sequence, optional\n",
      "        The string used to separate values.  By default, any consecutive\n",
      "        whitespaces act as delimiter.  An integer or sequence of integers\n",
      "        can also be provided as width(s) of each field.\n",
      "    skiprows : int, optional\n",
      "        `skiprows` was removed in numpy 1.10. Please use `skip_header` instead.\n",
      "    skip_header : int, optional\n",
      "        The number of lines to skip at the beginning of the file.\n",
      "    skip_footer : int, optional\n",
      "        The number of lines to skip at the end of the file.\n",
      "    converters : variable, optional\n",
      "        The set of functions that convert the data of a column to a value.\n",
      "        The converters can also be used to provide a default value\n",
      "        for missing data: ``converters = {3: lambda s: float(s or 0)}``.\n",
      "    missing : variable, optional\n",
      "        `missing` was removed in numpy 1.10. Please use `missing_values`\n",
      "        instead.\n",
      "    missing_values : variable, optional\n",
      "        The set of strings corresponding to missing data.\n",
      "    filling_values : variable, optional\n",
      "        The set of values to be used as default when the data are missing.\n",
      "    usecols : sequence, optional\n",
      "        Which columns to read, with 0 being the first.  For example,\n",
      "        ``usecols = (1, 4, 5)`` will extract the 2nd, 5th and 6th columns.\n",
      "    names : {None, True, str, sequence}, optional\n",
      "        If `names` is True, the field names are read from the first line after\n",
      "        the first `skip_header` lines.  This line can optionally be proceeded\n",
      "        by a comment delimiter. If `names` is a sequence or a single-string of\n",
      "        comma-separated names, the names will be used to define the field names\n",
      "        in a structured dtype. If `names` is None, the names of the dtype\n",
      "        fields will be used, if any.\n",
      "    excludelist : sequence, optional\n",
      "        A list of names to exclude. This list is appended to the default list\n",
      "        ['return','file','print']. Excluded names are appended an underscore:\n",
      "        for example, `file` would become `file_`.\n",
      "    deletechars : str, optional\n",
      "        A string combining invalid characters that must be deleted from the\n",
      "        names.\n",
      "    defaultfmt : str, optional\n",
      "        A format used to define default field names, such as \"f%i\" or \"f_%02i\".\n",
      "    autostrip : bool, optional\n",
      "        Whether to automatically strip white spaces from the variables.\n",
      "    replace_space : char, optional\n",
      "        Character(s) used in replacement of white spaces in the variables\n",
      "        names. By default, use a '_'.\n",
      "    case_sensitive : {True, False, 'upper', 'lower'}, optional\n",
      "        If True, field names are case sensitive.\n",
      "        If False or 'upper', field names are converted to upper case.\n",
      "        If 'lower', field names are converted to lower case.\n",
      "    unpack : bool, optional\n",
      "        If True, the returned array is transposed, so that arguments may be\n",
      "        unpacked using ``x, y, z = loadtxt(...)``\n",
      "    usemask : bool, optional\n",
      "        If True, return a masked array.\n",
      "        If False, return a regular array.\n",
      "    loose : bool, optional\n",
      "        If True, do not raise errors for invalid values.\n",
      "    invalid_raise : bool, optional\n",
      "        If True, an exception is raised if an inconsistency is detected in the\n",
      "        number of columns.\n",
      "        If False, a warning is emitted and the offending lines are skipped.\n",
      "    max_rows : int,  optional\n",
      "        The maximum number of rows to read. Must not be used with skip_footer\n",
      "        at the same time.  If given, the value must be at least 1. Default is\n",
      "        to read the entire file.\n",
      "    \n",
      "        .. versionadded:: 1.10.0\n",
      "    encoding : str, optional\n",
      "        Encoding used to decode the inputfile. Does not apply when `fname` is\n",
      "        a file object.  The special value 'bytes' enables backward compatibility\n",
      "        workarounds that ensure that you receive byte arrays when possible\n",
      "        and passes latin1 encoded strings to converters. Override this value to\n",
      "        receive unicode arrays and pass strings as input to converters.  If set\n",
      "        to None the system default is used. The default value is 'bytes'.\n",
      "    \n",
      "        .. versionadded:: 1.14.0\n",
      "    \n",
      "    Returns\n",
      "    -------\n",
      "    out : ndarray\n",
      "        Data read from the text file. If `usemask` is True, this is a\n",
      "        masked array.\n",
      "    \n",
      "    See Also\n",
      "    --------\n",
      "    numpy.loadtxt : equivalent function when no data is missing.\n",
      "    \n",
      "    Notes\n",
      "    -----\n",
      "    * When spaces are used as delimiters, or when no delimiter has been given\n",
      "      as input, there should not be any missing data between two fields.\n",
      "    * When the variables are named (either by a flexible dtype or with `names`,\n",
      "      there must not be any header in the file (else a ValueError\n",
      "      exception is raised).\n",
      "    * Individual values are not stripped of spaces by default.\n",
      "      When using a custom converter, make sure the function does remove spaces.\n",
      "    \n",
      "    References\n",
      "    ----------\n",
      "    .. [1] NumPy User Guide, section `I/O with NumPy\n",
      "           <http://docs.scipy.org/doc/numpy/user/basics.io.genfromtxt.html>`_.\n",
      "    \n",
      "    Examples\n",
      "    ---------\n",
      "    >>> from io import StringIO\n",
      "    >>> import numpy as np\n",
      "    \n",
      "    Comma delimited file with mixed dtype\n",
      "    \n",
      "    >>> s = StringIO(u\"1,1.3,abcde\")\n",
      "    >>> data = np.genfromtxt(s, dtype=[('myint','i8'),('myfloat','f8'),\n",
      "    ... ('mystring','S5')], delimiter=\",\")\n",
      "    >>> data\n",
      "    array((1, 1.3, 'abcde'),\n",
      "          dtype=[('myint', '<i8'), ('myfloat', '<f8'), ('mystring', '|S5')])\n",
      "    \n",
      "    Using dtype = None\n",
      "    \n",
      "    >>> s.seek(0) # needed for StringIO example only\n",
      "    >>> data = np.genfromtxt(s, dtype=None,\n",
      "    ... names = ['myint','myfloat','mystring'], delimiter=\",\")\n",
      "    >>> data\n",
      "    array((1, 1.3, 'abcde'),\n",
      "          dtype=[('myint', '<i8'), ('myfloat', '<f8'), ('mystring', '|S5')])\n",
      "    \n",
      "    Specifying dtype and names\n",
      "    \n",
      "    >>> s.seek(0)\n",
      "    >>> data = np.genfromtxt(s, dtype=\"i8,f8,S5\",\n",
      "    ... names=['myint','myfloat','mystring'], delimiter=\",\")\n",
      "    >>> data\n",
      "    array((1, 1.3, 'abcde'),\n",
      "          dtype=[('myint', '<i8'), ('myfloat', '<f8'), ('mystring', '|S5')])\n",
      "    \n",
      "    An example with fixed-width columns\n",
      "    \n",
      "    >>> s = StringIO(u\"11.3abcde\")\n",
      "    >>> data = np.genfromtxt(s, dtype=None, names=['intvar','fltvar','strvar'],\n",
      "    ...     delimiter=[1,3,5])\n",
      "    >>> data\n",
      "    array((1, 1.3, 'abcde'),\n",
      "          dtype=[('intvar', '<i8'), ('fltvar', '<f8'), ('strvar', '|S5')])\n",
      "\n",
      "None\n"
     ]
    }
   ],
   "source": [
    "# get the help document, if you not familiar the function apis.\n",
    "print(help(np.genfromtxt))"
   ]
  },
  {
   "cell_type": "code",
   "execution_count": 7,
   "metadata": {
    "slideshow": {
     "slide_type": "skip"
    }
   },
   "outputs": [
    {
     "name": "stdout",
     "output_type": "stream",
     "text": [
      "[5 4 3 2 1]\n"
     ]
    }
   ],
   "source": [
    "# build a 1-dim matrix\n",
    "vector = np.array([5,4,3,2,1])\n",
    "print(vector)"
   ]
  },
  {
   "cell_type": "code",
   "execution_count": 8,
   "metadata": {},
   "outputs": [
    {
     "name": "stdout",
     "output_type": "stream",
     "text": [
      "[[1 2 3]\n",
      " [4 5 6]\n",
      " [7 8 9]]\n"
     ]
    }
   ],
   "source": [
    "# build multi-dims matrix\n",
    "matrix = np.array([[1,2,3],[4,5,6],[7,8,9]])\n",
    "print(matrix)"
   ]
  },
  {
   "cell_type": "code",
   "execution_count": 15,
   "metadata": {},
   "outputs": [
    {
     "name": "stdout",
     "output_type": "stream",
     "text": [
      "vector shape is  (5,)\n",
      "matrix shape is  (3, 3)\n"
     ]
    }
   ],
   "source": [
    "# view the ndarray shape\n",
    "print(\"vector shape is \", vector.shape)\n",
    "print(\"matrix shape is \", matrix.shape)"
   ]
  },
  {
   "cell_type": "code",
   "execution_count": 21,
   "metadata": {},
   "outputs": [
    {
     "name": "stdout",
     "output_type": "stream",
     "text": [
      "int64\n",
      "float64\n",
      "<U21\n"
     ]
    }
   ],
   "source": [
    "# elements of a numpy array must keep same dtype\n",
    "numbers = np.array([1,2,3,4])\n",
    "print(numbers.dtype)\n",
    "\n",
    "numbers = np.array([1,2,3,4.2])\n",
    "print(numbers.dtype)\n",
    "\n",
    "numbers = np.array([1,2,3,'string'])\n",
    "print(numbers.dtype)"
   ]
  },
  {
   "cell_type": "code",
   "execution_count": 22,
   "metadata": {},
   "outputs": [
    {
     "data": {
      "text/plain": [
       "array(['1986', 'Western Pacific', 'Viet Nam', 'Wine', '0'], dtype='<U52')"
      ]
     },
     "execution_count": 22,
     "metadata": {},
     "output_type": "execute_result"
    }
   ],
   "source": [
    "# numpy data selection\n",
    "world_alcohol[1]"
   ]
  },
  {
   "cell_type": "code",
   "execution_count": 31,
   "metadata": {},
   "outputs": [
    {
     "data": {
      "text/plain": [
       "'Wine'"
      ]
     },
     "execution_count": 31,
     "metadata": {},
     "output_type": "execute_result"
    }
   ],
   "source": [
    "world_alcohol[1, 3]"
   ]
  },
  {
   "cell_type": "code",
   "execution_count": 24,
   "metadata": {},
   "outputs": [
    {
     "data": {
      "text/plain": [
       "array([['Year', 'WHO region', 'Country', 'Beverage Types',\n",
       "        'Display Value'],\n",
       "       ['1986', 'Western Pacific', 'Viet Nam', 'Wine', '0']], dtype='<U52')"
      ]
     },
     "execution_count": 24,
     "metadata": {},
     "output_type": "execute_result"
    }
   ],
   "source": [
    "world_alcohol[0:2]"
   ]
  },
  {
   "cell_type": "code",
   "execution_count": 29,
   "metadata": {},
   "outputs": [
    {
     "data": {
      "text/plain": [
       "array(['Beverage Types', 'Wine'], dtype='<U52')"
      ]
     },
     "execution_count": 29,
     "metadata": {},
     "output_type": "execute_result"
    }
   ],
   "source": [
    "# select the top two rows, column=3 elements\n",
    "world_alcohol[0:2, 3]"
   ]
  },
  {
   "cell_type": "code",
   "execution_count": 33,
   "metadata": {},
   "outputs": [
    {
     "data": {
      "text/plain": [
       "array(['Beverage Types', 'Wine', 'Other', 'Wine', 'Beer', 'Beer', 'Other',\n",
       "       'Wine', 'Spirits', 'Spirits', 'Other', 'Wine', 'Beer', 'Beer',\n",
       "       'Other', 'Spirits', 'Wine', 'Wine', 'Beer', 'Spirits', 'Beer',\n",
       "       'Wine', 'Spirits', 'Spirits', 'Beer', 'Other', 'Other', 'Wine',\n",
       "       'Beer', 'Beer', 'Other', 'Other', 'Wine', 'Beer', 'Other', 'Wine',\n",
       "       'Spirits', 'Beer', 'Beer', 'Other', 'Spirits', 'Spirits', 'Beer',\n",
       "       'Spirits', 'Wine', 'Other', 'Beer', 'Spirits', 'Other', 'Beer',\n",
       "       'Wine', 'Other', 'Beer', 'Wine', 'Beer', 'Spirits', 'Wine', 'Wine',\n",
       "       'Wine', 'Spirits', 'Other', 'Other', 'Spirits', 'Other', 'Other',\n",
       "       'Beer', 'Beer', 'Wine', 'Beer', 'Beer', 'Spirits', 'Spirits',\n",
       "       'Other', 'Other', 'Other', 'Spirits', 'Other', 'Beer', 'Spirits',\n",
       "       'Other', 'Other', 'Other', 'Wine', 'Spirits', 'Other', 'Other',\n",
       "       'Wine', 'Wine', 'Wine', 'Beer', 'Wine', 'Wine', 'Beer', 'Spirits',\n",
       "       'Other', 'Spirits', 'Other', 'Wine', 'Wine', 'Wine', 'Wine',\n",
       "       'Beer', 'Other', 'Wine', 'Spirits', 'Other', 'Beer', 'Beer',\n",
       "       'Other', 'Beer', 'Wine', 'Beer', 'Spirits', 'Spirits', 'Beer',\n",
       "       'Beer', 'Beer', 'Spirits', 'Other', 'Spirits', 'Beer', 'Wine',\n",
       "       'Wine', 'Other', 'Beer', 'Spirits', 'Wine', 'Wine', 'Spirits',\n",
       "       'Other', 'Wine', 'Spirits', 'Beer', 'Beer', 'Beer', 'Spirits',\n",
       "       'Spirits', 'Wine', 'Wine', 'Other', 'Spirits', 'Beer', 'Wine',\n",
       "       'Spirits', 'Beer', 'Wine', 'Beer', 'Spirits', 'Other', 'Other',\n",
       "       'Spirits', 'Spirits', 'Spirits', 'Beer', 'Spirits', 'Beer', 'Beer',\n",
       "       'Spirits', 'Other', 'Spirits', 'Beer', 'Spirits', 'Beer',\n",
       "       'Spirits', 'Beer', 'Other', 'Wine', 'Wine', 'Beer', 'Other',\n",
       "       'Spirits', 'Spirits', 'Spirits', 'Spirits', 'Beer', 'Spirits',\n",
       "       'Spirits', 'Spirits', 'Other', 'Beer', 'Wine', 'Beer', 'Spirits',\n",
       "       'Beer', 'Other', 'Wine', 'Wine', 'Beer', 'Beer', 'Spirits', 'Wine',\n",
       "       'Beer', 'Spirits', 'Other', 'Beer', 'Spirits', 'Beer', 'Beer',\n",
       "       'Spirits', 'Wine', 'Beer', 'Other', 'Wine', 'Other', 'Wine',\n",
       "       'Spirits', 'Spirits', 'Wine', 'Spirits', 'Spirits', 'Spirits',\n",
       "       'Spirits', 'Beer', 'Beer', 'Other', 'Beer', 'Beer', 'Spirits',\n",
       "       'Spirits', 'Other', 'Wine', 'Beer', 'Spirits', 'Spirits', 'Beer',\n",
       "       'Other', 'Beer', 'Spirits', 'Wine', 'Beer', 'Other', 'Other',\n",
       "       'Spirits', 'Beer', 'Spirits', 'Wine', 'Beer', 'Spirits', 'Spirits',\n",
       "       'Wine', 'Wine', 'Spirits', 'Beer', 'Beer', 'Beer', 'Spirits',\n",
       "       'Beer', 'Spirits', 'Beer', 'Wine', 'Beer', 'Beer', 'Beer', 'Wine',\n",
       "       'Spirits', 'Wine', 'Spirits', 'Beer', 'Spirits', 'Wine', 'Other',\n",
       "       'Other', 'Other', 'Beer', 'Wine', 'Beer', 'Spirits', 'Spirits',\n",
       "       'Wine', 'Wine', 'Spirits', 'Wine', 'Beer', 'Spirits', 'Spirits',\n",
       "       'Wine', 'Other', 'Wine', 'Spirits', 'Other', 'Wine', 'Other',\n",
       "       'Beer', 'Beer', 'Other', 'Wine', 'Other', 'Spirits', 'Other',\n",
       "       'Beer', 'Spirits', 'Other', 'Wine', 'Spirits', 'Beer', 'Spirits',\n",
       "       'Wine', 'Other', 'Wine', 'Other', 'Wine', 'Other', 'Other',\n",
       "       'Other', 'Spirits', 'Wine', 'Other', 'Beer', 'Beer', 'Other',\n",
       "       'Spirits', 'Wine', 'Spirits', 'Spirits', 'Spirits', 'Spirits',\n",
       "       'Wine', 'Spirits', 'Other', 'Beer', 'Wine', 'Spirits', 'Beer',\n",
       "       'Beer', 'Other', 'Other', 'Beer', 'Other', 'Other', 'Beer',\n",
       "       'Other', 'Spirits', 'Spirits', 'Wine', 'Other', 'Spirits', 'Other',\n",
       "       'Beer', 'Wine', 'Wine', 'Beer', 'Wine', 'Beer', 'Other', 'Spirits',\n",
       "       'Spirits', 'Other', 'Other', 'Beer', 'Wine', 'Beer', 'Wine',\n",
       "       'Other', 'Beer', 'Beer', 'Other', 'Beer', 'Other', 'Wine',\n",
       "       'Spirits', 'Spirits', 'Other', 'Other', 'Beer', 'Spirits', 'Beer',\n",
       "       'Wine', 'Spirits', 'Spirits', 'Spirits', 'Other', 'Spirits',\n",
       "       'Spirits', 'Spirits', 'Other', 'Other', 'Wine', 'Beer', 'Other',\n",
       "       'Wine', 'Other', 'Wine', 'Wine', 'Other', 'Wine', 'Wine', 'Wine',\n",
       "       'Spirits', 'Wine', 'Wine', 'Other', 'Other', 'Beer', 'Other',\n",
       "       'Beer', 'Spirits', 'Spirits', 'Spirits', 'Spirits', 'Spirits',\n",
       "       'Spirits', 'Wine', 'Other', 'Beer', 'Other', 'Other', 'Other',\n",
       "       'Beer', 'Wine', 'Spirits', 'Other', 'Other', 'Spirits', 'Other',\n",
       "       'Spirits', 'Spirits', 'Spirits', 'Other', 'Wine', 'Beer',\n",
       "       'Spirits', 'Wine', 'Spirits', 'Spirits', 'Wine', 'Spirits',\n",
       "       'Spirits', 'Wine', 'Beer', 'Spirits', 'Spirits', 'Beer', 'Wine',\n",
       "       'Spirits', 'Spirits', 'Wine', 'Spirits', 'Wine', 'Spirits', 'Wine',\n",
       "       'Beer', 'Beer', 'Wine', 'Other', 'Beer', 'Wine', 'Other', 'Beer',\n",
       "       'Other', 'Beer', 'Other', 'Wine', 'Wine', 'Spirits', 'Wine',\n",
       "       'Spirits', 'Beer', 'Spirits', 'Other', 'Wine', 'Beer', 'Wine',\n",
       "       'Wine', 'Other', 'Beer', 'Spirits', 'Spirits', 'Wine', 'Beer',\n",
       "       'Other', 'Beer', 'Other', 'Spirits', 'Wine', 'Wine', 'Beer',\n",
       "       'Spirits', 'Other', 'Beer', 'Beer', 'Wine', 'Wine', 'Wine',\n",
       "       'Other', 'Wine', 'Wine', 'Beer', 'Wine', 'Other', 'Spirits',\n",
       "       'Wine', 'Other', 'Other', 'Other', 'Other', 'Spirits', 'Beer',\n",
       "       'Beer', 'Wine', 'Wine', 'Spirits', 'Other', 'Other', 'Beer',\n",
       "       'Other', 'Wine', 'Spirits', 'Spirits', 'Beer', 'Beer', 'Wine',\n",
       "       'Other', 'Wine', 'Wine', 'Beer', 'Beer', 'Beer', 'Other',\n",
       "       'Spirits', 'Other', 'Wine', 'Beer', 'Other', 'Other', 'Spirits',\n",
       "       'Beer', 'Spirits', 'Beer', 'Spirits', 'Beer', 'Wine', 'Other',\n",
       "       'Wine', 'Spirits', 'Wine', 'Beer', 'Spirits', 'Wine', 'Other',\n",
       "       'Beer', 'Beer', 'Beer', 'Other', 'Wine', 'Spirits', 'Spirits',\n",
       "       'Other', 'Other', 'Beer', 'Spirits', 'Wine', 'Spirits', 'Beer',\n",
       "       'Other', 'Spirits', 'Wine', 'Spirits', 'Wine', 'Spirits', 'Wine',\n",
       "       'Wine', 'Other', 'Other', 'Other', 'Other', 'Other', 'Spirits',\n",
       "       'Spirits', 'Wine', 'Other', 'Wine', 'Other', 'Wine', 'Beer',\n",
       "       'Other', 'Spirits', 'Other', 'Wine', 'Other', 'Spirits', 'Wine',\n",
       "       'Wine', 'Other', 'Wine', 'Beer', 'Other', 'Wine', 'Spirits',\n",
       "       'Other', 'Beer', 'Other', 'Other', 'Wine', 'Other', 'Spirits',\n",
       "       'Other', 'Spirits', 'Wine', 'Other', 'Spirits', 'Spirits',\n",
       "       'Spirits', 'Spirits', 'Spirits', 'Other', 'Wine', 'Beer', 'Beer',\n",
       "       'Other', 'Beer', 'Beer', 'Beer', 'Spirits', 'Spirits', 'Wine',\n",
       "       'Beer', 'Spirits', 'Wine', 'Wine', 'Beer', 'Beer', 'Wine', 'Wine',\n",
       "       'Other', 'Wine', 'Wine', 'Spirits', 'Other', 'Other', 'Spirits',\n",
       "       'Beer', 'Spirits', 'Spirits', 'Wine', 'Beer', 'Other', 'Spirits',\n",
       "       'Spirits', 'Wine', 'Wine', 'Wine', 'Other', 'Beer', 'Other',\n",
       "       'Spirits', 'Wine', 'Other', 'Wine', 'Spirits', 'Spirits', 'Beer',\n",
       "       'Beer', 'Other', 'Wine', 'Wine', 'Wine', 'Wine', 'Beer', 'Other',\n",
       "       'Other', 'Beer', 'Spirits', 'Wine', 'Spirits', 'Wine', 'Spirits',\n",
       "       'Beer', 'Wine', 'Other', 'Other', 'Wine', 'Spirits', 'Wine',\n",
       "       'Other', 'Wine', 'Beer', 'Wine', 'Spirits', 'Wine', 'Wine', 'Beer',\n",
       "       'Spirits', 'Beer', 'Other', 'Wine', 'Other', 'Spirits', 'Spirits',\n",
       "       'Wine', 'Other', 'Other', 'Spirits', 'Wine', 'Other', 'Wine',\n",
       "       'Beer', 'Wine', 'Beer', 'Beer', 'Spirits', 'Other', 'Beer',\n",
       "       'Other', 'Beer', 'Wine', 'Beer', 'Beer', 'Other', 'Other',\n",
       "       'Spirits', 'Spirits', 'Wine', 'Spirits', 'Wine', 'Beer', 'Wine',\n",
       "       'Wine', 'Other', 'Spirits', 'Wine', 'Other', 'Beer', 'Wine',\n",
       "       'Other', 'Other', 'Beer', 'Wine', 'Spirits', 'Spirits', 'Beer',\n",
       "       'Spirits', 'Other', 'Beer', 'Beer', 'Beer', 'Other', 'Other',\n",
       "       'Spirits', 'Spirits', 'Wine', 'Other', 'Other', 'Wine', 'Other',\n",
       "       'Beer', 'Other', 'Spirits', 'Beer', 'Spirits', 'Spirits', 'Wine',\n",
       "       'Spirits', 'Wine', 'Spirits', 'Spirits', 'Other', 'Spirits',\n",
       "       'Beer', 'Spirits', 'Other', 'Wine', 'Spirits', 'Spirits', 'Other',\n",
       "       'Spirits', 'Wine', 'Spirits', 'Beer', 'Other', 'Beer', 'Other',\n",
       "       'Beer', 'Wine', 'Beer', 'Beer', 'Wine', 'Beer', 'Wine', 'Beer',\n",
       "       'Wine', 'Spirits', 'Wine', 'Other', 'Wine', 'Spirits', 'Beer',\n",
       "       'Wine', 'Spirits', 'Other', 'Beer', 'Wine', 'Wine', 'Wine',\n",
       "       'Spirits', 'Wine', 'Beer', 'Wine', 'Other', 'Other', 'Spirits',\n",
       "       'Other', 'Other', 'Wine', 'Other', 'Wine', 'Other', 'Beer',\n",
       "       'Spirits', 'Beer', 'Wine', 'Beer', 'Beer', 'Beer', 'Other',\n",
       "       'Spirits', 'Other', 'Beer', 'Spirits', 'Spirits', 'Other', 'Wine',\n",
       "       'Beer', 'Beer', 'Wine', 'Spirits', 'Beer', 'Beer', 'Beer', 'Wine',\n",
       "       'Other', 'Beer', 'Spirits', 'Spirits', 'Other', 'Beer', 'Other',\n",
       "       'Beer', 'Beer', 'Spirits', 'Spirits', 'Spirits', 'Wine', 'Other',\n",
       "       'Other', 'Beer', 'Beer', 'Wine', 'Spirits', 'Beer', 'Other',\n",
       "       'Other', 'Wine', 'Spirits', 'Other', 'Spirits', 'Other', 'Beer',\n",
       "       'Spirits', 'Beer', 'Other', 'Beer', 'Spirits', 'Beer', 'Beer',\n",
       "       'Spirits', 'Other', 'Other', 'Wine', 'Other', 'Beer', 'Spirits',\n",
       "       'Wine', 'Other', 'Other', 'Beer', 'Spirits', 'Spirits', 'Wine',\n",
       "       'Beer', 'Spirits', 'Wine', 'Beer', 'Wine', 'Beer', 'Spirits',\n",
       "       'Beer', 'Other', 'Wine', 'Wine', 'Wine', 'Wine', 'Wine', 'Spirits',\n",
       "       'Wine', 'Spirits', 'Beer', 'Other', 'Beer', 'Wine', 'Other',\n",
       "       'Beer', 'Beer', 'Spirits', 'Beer', 'Spirits', 'Spirits', 'Beer',\n",
       "       'Wine', 'Beer', 'Other', 'Beer', 'Other', 'Beer', 'Beer', 'Beer',\n",
       "       'Wine', 'Beer', 'Wine', 'Other', 'Spirits', 'Wine', 'Wine',\n",
       "       'Spirits', 'Beer', 'Wine', 'Beer', 'Beer', 'Spirits', 'Other',\n",
       "       'Wine', 'Other', 'Other', 'Other', 'Other', 'Wine', 'Beer',\n",
       "       'Other', 'Beer', 'Spirits', 'Wine', 'Spirits', 'Other', 'Other',\n",
       "       'Wine', 'Wine', 'Spirits', 'Beer', 'Beer', 'Spirits', 'Beer',\n",
       "       'Beer', 'Other', 'Spirits', 'Beer', 'Beer', 'Wine', 'Spirits',\n",
       "       'Other', 'Other', 'Beer', 'Spirits', 'Other', 'Spirits', 'Beer',\n",
       "       'Other', 'Spirits', 'Spirits', 'Spirits', 'Beer', 'Other', 'Beer',\n",
       "       'Spirits', 'Other', 'Other', 'Other', 'Other', 'Spirits', 'Wine',\n",
       "       'Other', 'Spirits', 'Beer', 'Other', 'Other', 'Spirits', 'Spirits',\n",
       "       'Other', 'Other', 'Spirits', 'Spirits', 'Beer', 'Beer', 'Wine',\n",
       "       'Wine', 'Spirits', 'Spirits', 'Other', 'Wine', 'Spirits'],\n",
       "      dtype='<U52')"
      ]
     },
     "execution_count": 33,
     "metadata": {},
     "output_type": "execute_result"
    }
   ],
   "source": [
    "# select one column\n",
    "world_alcohol[:, 3]"
   ]
  },
  {
   "cell_type": "code",
   "execution_count": null,
   "metadata": {},
   "outputs": [],
   "source": []
  }
 ],
 "metadata": {
  "kernelspec": {
   "display_name": "Python 3",
   "language": "python",
   "name": "python3"
  },
  "language_info": {
   "codemirror_mode": {
    "name": "ipython",
    "version": 3
   },
   "file_extension": ".py",
   "mimetype": "text/x-python",
   "name": "python",
   "nbconvert_exporter": "python",
   "pygments_lexer": "ipython3",
   "version": "3.6.6"
  }
 },
 "nbformat": 4,
 "nbformat_minor": 2
}
